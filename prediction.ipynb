{
 "cells": [
  {
   "cell_type": "code",
   "execution_count": 1,
   "metadata": {},
   "outputs": [],
   "source": [
    "import yaml\n",
    "config_p = yaml.load(open(\"config/ICASSP/preprocess.yaml\", \"r\"), Loader=yaml.FullLoader)\n",
    "config_m = yaml.load(open(\"config/ICASSP/model.yaml\", \"r\"), Loader=yaml.FullLoader)\n",
    "config_t = yaml.load(open(\"config/ICASSP/train.yaml\", \"r\"), Loader=yaml.FullLoader)\n",
    "configs = (config_p, config_m, config_t)"
   ]
  },
  {
   "cell_type": "code",
   "execution_count": 44,
   "metadata": {},
   "outputs": [
    {
     "name": "stdout",
     "output_type": "stream",
     "text": [
      "restore_step 200000\n",
      "Removing weight norm...\n"
     ]
    }
   ],
   "source": [
    "import sys\n",
    "sys.path.append(\"./scripts\")\n",
    "from scripts.utils.model import get_model, get_vocoder\n",
    "import torch\n",
    "import json\n",
    "\n",
    "with open(\"preprocessed_data/RWCP-SSD/latest/stats.json\", \"r\") as f:\n",
    "    stats_param = json.load(f)\n",
    "\n",
    "DEVICE = torch.device(\"cuda\" if torch.cuda.is_available() else \"cpu\")\n",
    "model = get_model(200000, configs, DEVICE)\n",
    "vocoder = get_vocoder(config_m, DEVICE)"
   ]
  },
  {
   "cell_type": "code",
   "execution_count": 3,
   "metadata": {},
   "outputs": [],
   "source": [
    "from scripts.dataset import Dataset\n",
    "dataset_ = Dataset(\"test.txt\", config_p, config_t, config_m)"
   ]
  },
  {
   "cell_type": "code",
   "execution_count": 4,
   "metadata": {},
   "outputs": [],
   "source": [
    "from pathlib import Path\n",
    "import numpy as np\n",
    "from PIL import Image, ImageDraw, ImageFont\n",
    "import cv2\n",
    "\n",
    "def pil2cv(pil_im, color=False):\n",
    "    ''' PIL型 -> OpenCV型 '''\n",
    "    new_image = np.array(pil_im, dtype=np.uint8)\n",
    "    if new_image.ndim == 2:  # モノクロ\n",
    "        pass\n",
    "    elif new_image.shape[2] == 3:  # カラー\n",
    "        if color:\n",
    "            new_image = cv2.cvtColor(new_image, cv2.COLOR_RGB2BGR)\n",
    "        else:\n",
    "            new_image = cv2.cvtColor(new_image, cv2.COLOR_RGB2GRAY)\n",
    "    elif new_image.shape[2] == 4:  # 透過\n",
    "        if color:\n",
    "            new_image = cv2.cvtColor(new_image, cv2.COLOR_RGBA2BGRA)\n",
    "        else:\n",
    "            new_image = cv2.cvtColor(new_image, cv2.COLOR_RGBA2GRAY)\n",
    "    return new_image\n",
    "\n",
    "\n",
    "def img_pad(im, max_width):\n",
    "    def add_margin(pil_img, top, right, bottom, left, color):\n",
    "        width, height = pil_img.size\n",
    "        new_width = width + right + left\n",
    "        new_height = height + top + bottom\n",
    "        result = Image.new(pil_img.mode, (new_width, new_height), color)\n",
    "        result.paste(pil_img, (left, top))\n",
    "        return result\n",
    "    pad_left = (max_width - im.width)/2 + ((max_width - im.width)%2)\n",
    "    pad_right = (max_width - im.width)/2\n",
    "\n",
    "    return add_margin(im, 0, int(pad_right), 0, int(pad_left), (0,0,0))"
   ]
  },
  {
   "cell_type": "code",
   "execution_count": 20,
   "metadata": {},
   "outputs": [
    {
     "data": {
      "application/vnd.jupyter.widget-view+json": {
       "model_id": "8ddb633f976d47f3946e7fc5bc50a719",
       "version_major": 2,
       "version_minor": 0
      },
      "text/html": [
       "Cannot show widget. You probably want to rerun the code cell above (<i>Click in the code cell, and press Shift+Enter <kbd>⇧</kbd>+<kbd>↩</kbd></i>)."
      ],
      "text/plain": [
       "Cannot show ipywidgets in text"
      ]
     },
     "metadata": {},
     "output_type": "display_data"
    }
   ],
   "source": [
    "# Katakana creation by gui\n",
    "import solara\n",
    "\n",
    "result = solara.reactive(\"\")\n",
    "\n",
    "@solara.component\n",
    "def Katakana():\n",
    "    def on_click_text(text):\n",
    "        tmp = result.get()\n",
    "        result.set(tmp + text)\n",
    "    def on_click_reset():\n",
    "        result.set(\"\")\n",
    "    def on_click_repeat():\n",
    "        tmp = result.get()\n",
    "        result.set(tmp + tmp)\n",
    "\n",
    "\n",
    "    solara.Text(result.get())\n",
    "    with solara.Columns([2]):\n",
    "        # reset text\n",
    "        solara.Button(\"Reset\", on_click=lambda: on_click_reset())\n",
    "        # repeat text\n",
    "        solara.Button(\"Repeat\", on_click=lambda: on_click_repeat())\n",
    "    with solara.Columns([20]):\n",
    "        solara.Button(\"ア\", on_click=lambda: on_click_text(\"ア\")), solara.Button(\"イ\", on_click=lambda: on_click_text(\"イ\")), solara.Button(\"ウ\", on_click=lambda: on_click_text(\"ウ\")), solara.Button(\"エ\", on_click=lambda: on_click_text(\"エ\")), solara.Button(\"オ\", on_click=lambda: on_click_text(\"オ\"))\n",
    "        solara.Button(\"カ\", on_click=lambda: on_click_text(\"カ\")), solara.Button(\"キ\", on_click=lambda: on_click_text(\"キ\")), solara.Button(\"ク\", on_click=lambda: on_click_text(\"ク\")), solara.Button(\"ケ\", on_click=lambda: on_click_text(\"ケ\")), solara.Button(\"コ\", on_click=lambda: on_click_text(\"コ\"))\n",
    "        solara.Button(\"サ\", on_click=lambda: on_click_text(\"サ\")), solara.Button(\"シ\", on_click=lambda: on_click_text(\"シ\")), solara.Button(\"ス\", on_click=lambda: on_click_text(\"ス\")), solara.Button(\"セ\", on_click=lambda: on_click_text(\"セ\")), solara.Button(\"ソ\", on_click=lambda: on_click_text(\"ソ\"))\n",
    "        solara.Button(\"タ\", on_click=lambda: on_click_text(\"タ\")), solara.Button(\"チ\", on_click=lambda: on_click_text(\"チ\")), solara.Button(\"ツ\", on_click=lambda: on_click_text(\"ツ\")), solara.Button(\"テ\", on_click=lambda: on_click_text(\"テ\")), solara.Button(\"ト\", on_click=lambda: on_click_text(\"ト\"))\n",
    "    with solara.Columns([20]):\n",
    "        solara.Button(\"ナ\", on_click=lambda: on_click_text(\"ナ\")), solara.Button(\"ニ\", on_click=lambda: on_click_text(\"ニ\")), solara.Button(\"ヌ\", on_click=lambda: on_click_text(\"ヌ\")), solara.Button(\"ネ\", on_click=lambda: on_click_text(\"ネ\")), solara.Button(\"ノ\", on_click=lambda: on_click_text(\"ノ\"))\n",
    "        solara.Button(\"ハ\", on_click=lambda: on_click_text(\"ハ\")), solara.Button(\"ヒ\", on_click=lambda: on_click_text(\"ヒ\")), solara.Button(\"フ\", on_click=lambda: on_click_text(\"フ\")), solara.Button(\"ヘ\", on_click=lambda: on_click_text(\"ヘ\")), solara.Button(\"ホ\", on_click=lambda: on_click_text(\"ホ\"))\n",
    "        solara.Button(\"マ\", on_click=lambda: on_click_text(\"マ\")), solara.Button(\"ミ\", on_click=lambda: on_click_text(\"ミ\")), solara.Button(\"ム\", on_click=lambda: on_click_text(\"ム\")), solara.Button(\"メ\", on_click=lambda: on_click_text(\"メ\")), solara.Button(\"モ\", on_click=lambda: on_click_text(\"モ\"))\n",
    "        solara.Button(\"ヤ\", on_click=lambda: on_click_text(\"ヤ\")), solara.Button(\"\", on_click=lambda: on_click_text(\"\")), solara.Button(\"ユ\", on_click=lambda: on_click_text(\"ユ\")), solara.Button(\"\", on_click=lambda: on_click_text(\"\")), solara.Button(\"ヨ\", on_click=lambda: on_click_text(\"ヨ\"))\n",
    "    with solara.Columns([20]):\n",
    "        solara.Button(\"ラ\", on_click=lambda: on_click_text(\"ラ\")), solara.Button(\"リ\", on_click=lambda: on_click_text(\"リ\")), solara.Button(\"ル\", on_click=lambda: on_click_text(\"ル\")), solara.Button(\"レ\", on_click=lambda: on_click_text(\"レ\")), solara.Button(\"ロ\", on_click=lambda: on_click_text(\"ロ\"))\n",
    "        solara.Button(\"ワ\", on_click=lambda: on_click_text(\"ワ\")), solara.Button(\"ヲ\", on_click=lambda: on_click_text(\"ヲ\")), solara.Button(\"ン\", on_click=lambda: on_click_text(\"ン\")), solara.Button(\"\", on_click=lambda: on_click_text(\"\")), solara.Button(\"\", on_click=lambda: on_click_text(\"\"))\n",
    "        solara.Button(\"ガ\", on_click=lambda: on_click_text(\"ガ\")), solara.Button(\"ギ\", on_click=lambda: on_click_text(\"ギ\")), solara.Button(\"グ\", on_click=lambda: on_click_text(\"グ\")), solara.Button(\"ゲ\", on_click=lambda: on_click_text(\"ゲ\")), solara.Button(\"ゴ\", on_click=lambda: on_click_text(\"ゴ\"))\n",
    "        solara.Button(\"ザ\", on_click=lambda: on_click_text(\"ザ\")), solara.Button(\"ジ\", on_click=lambda: on_click_text(\"ジ\")), solara.Button(\"ズ\", on_click=lambda: on_click_text(\"ズ\")), solara.Button(\"ゼ\", on_click=lambda: on_click_text(\"ゼ\")), solara.Button(\"ゾ\", on_click=lambda: on_click_text(\"ゾ\"))\n",
    "    with solara.Columns([20]):\n",
    "        solara.Button(\"ダ\", on_click=lambda: on_click_text(\"ダ\")), solara.Button(\"ヂ\", on_click=lambda: on_click_text(\"ヂ\")), solara.Button(\"ヅ\", on_click=lambda: on_click_text(\"ヅ\")), solara.Button(\"デ\", on_click=lambda: on_click_text(\"デ\")), solara.Button(\"ド\", on_click=lambda: on_click_text(\"ド\"))\n",
    "        solara.Button(\"バ\", on_click=lambda: on_click_text(\"バ\")), solara.Button(\"ビ\", on_click=lambda: on_click_text(\"ビ\")), solara.Button(\"ブ\", on_click=lambda: on_click_text(\"ブ\")), solara.Button(\"ベ\", on_click=lambda: on_click_text(\"ベ\")), solara.Button(\"ボ\", on_click=lambda: on_click_text(\"ボ\"))\n",
    "        solara.Button(\"パ\", on_click=lambda: on_click_text(\"パ\")), solara.Button(\"ピ\", on_click=lambda: on_click_text(\"ピ\")), solara.Button(\"プ\", on_click=lambda: on_click_text(\"プ\")), solara.Button(\"ペ\", on_click=lambda: on_click_text(\"ペ\")), solara.Button(\"ポ\", on_click=lambda: on_click_text(\"ポ\"))\n",
    "        solara.Button(\"ヴ\", on_click=lambda: on_click_text(\"ヴ\")), solara.Button(\"\", on_click=lambda: on_click_text(\"\")), solara.Button(\"\", on_click=lambda: on_click_text(\"\")), solara.Button(\"\", on_click=lambda: on_click_text(\"\")), solara.Button(\"\", on_click=lambda: on_click_text(\"\"))\n",
    "    with solara.Columns([20]):\n",
    "        solara.Button(\"ァ\", on_click=lambda: on_click_text(\"ァ\")), solara.Button(\"ィ\", on_click=lambda: on_click_text(\"ィ\")), solara.Button(\"ゥ\", on_click=lambda: on_click_text(\"ゥ\")), solara.Button(\"ェ\", on_click=lambda: on_click_text(\"ェ\")), solara.Button(\"ォ\", on_click=lambda: on_click_text(\"ォ\"))\n",
    "        solara.Button(\"ャ\", on_click=lambda: on_click_text(\"ャ\")), solara.Button(\"\", on_click=lambda: on_click_text(\"\")), solara.Button(\"ュ\", on_click=lambda: on_click_text(\"ュ\")), solara.Button(\"\", on_click=lambda: on_click_text(\"\")), solara.Button(\"ョ\", on_click=lambda: on_click_text(\"ョ\"))\n",
    "        solara.Button(\"ー\", on_click=lambda: on_click_text(\"ー\")), solara.Button(\"\", on_click=lambda: on_click_text(\"\")), solara.Button(\"\", on_click=lambda: on_click_text(\"\")), solara.Button(\"\", on_click=lambda: on_click_text(\"\")), solara.Button(\"\", on_click=lambda: on_click_text(\"\"))\n",
    "        solara.Button(\"\", on_click=lambda: on_click_text(\"\")), solara.Button(\"\", on_click=lambda: on_click_text(\"\")), solara.Button(\"\", on_click=lambda: on_click_text(\"\")), solara.Button(\"\", on_click=lambda: on_click_text(\"\")), solara.Button(\"\", on_click=lambda: on_click_text(\"\"))\n",
    "\n",
    "Katakana()"
   ]
  },
  {
   "cell_type": "code",
   "execution_count": 52,
   "metadata": {},
   "outputs": [
    {
     "data": {
      "application/vnd.jupyter.widget-view+json": {
       "model_id": "a9287016c2b540ddba4fd8f97ccce83d",
       "version_major": 2,
       "version_minor": 0
      },
      "text/html": [
       "Cannot show widget. You probably want to rerun the code cell above (<i>Click in the code cell, and press Shift+Enter <kbd>⇧</kbd>+<kbd>↩</kbd></i>)."
      ],
      "text/plain": [
       "Cannot show ipywidgets in text"
      ]
     },
     "metadata": {},
     "output_type": "display_data"
    }
   ],
   "source": [
    "import solara\n",
    "from IPython.display import Audio\n",
    "import torchaudio\n",
    "from scripts.utils.tools import to_device, plot_mel, expand\n",
    "\n",
    "synth_onomatopoeia = solara.reactive(\"ピィピィ\")\n",
    "image_pil_show = solara.reactive(\n",
    "    Image.open(\"./sample/ipaexg_24pt_c3-whistle3-000-0271-517-repeat2.png\")\n",
    ")\n",
    "image_input = solara.reactive(None)\n",
    "im_w = solara.reactive(None)\n",
    "audio = solara.reactive(torchaudio.load(\"sample/tmp.wav\")[0])\n",
    "mel_img = solara.reactive(\n",
    "    Image.open(\"./sample/tmp.png\")\n",
    ")\n",
    "class_name = solara.reactive(\"whistle3\")\n",
    "\n",
    "@solara.component\n",
    "\n",
    "def Page():\n",
    "    def on_click_generate_visual_onomatopoeia():\n",
    "        fs = config_p[\"visual_text\"][\"fontsize\"]\n",
    "        bgcolor = tuple(config_p[\"visual_text\"][\"color\"][\"background\"])\n",
    "        txtcolor = tuple(config_p[\"visual_text\"][\"color\"][\"text\"])\n",
    "        font = ImageFont.truetype(\n",
    "            str(Path(config_p[\"path\"][\"font\"])), \n",
    "            fs\n",
    "        )\n",
    "        canvas_width = len(synth_onomatopoeia.get()) * dataset_.width\n",
    "        canvas = Image.new(\"RGB\", (canvas_width, fs), (255, 255, 255))\n",
    "        w = 0\n",
    "        for char in synth_onomatopoeia.get():\n",
    "            c_im = Image.new(\"RGB\", (fs, fs), bgcolor)\n",
    "            c_draw = ImageDraw.Draw(c_im)\n",
    "            c_draw.text((0, 0), char, fill=txtcolor, font=font)\n",
    "            c_im = img_pad(c_im, dataset_.width)\n",
    "            canvas.paste(c_im, (w, 0))\n",
    "            w += fs\n",
    "        canvas_1ch = canvas.convert(\"L\")\n",
    "        image_input.set(canvas_1ch)\n",
    "        canvas = Image.new(\"RGB\", (fs*len(synth_onomatopoeia.get()), fs), (255, 255, 255))\n",
    "        w = 0\n",
    "        for char in synth_onomatopoeia.get():\n",
    "            c_im = Image.new(\"RGB\", (fs, fs), bgcolor)\n",
    "            c_draw = ImageDraw.Draw(c_im)\n",
    "            c_draw.text((0, 0), char, fill=txtcolor, font=font)\n",
    "            canvas.paste(c_im, (w, 0))\n",
    "            w += fs\n",
    "        image_pil_show.set(canvas)\n",
    "\n",
    "    def on_click_synthesize():\n",
    "        onomatopoeia = synth_onomatopoeia.get()\n",
    "        name = [onomatopoeia]\n",
    "        class_id = np.array([dataset_.audiotype_map[class_name.get()]])\n",
    "        text = np.array([[dataset_.symbol_to_id[t] for t in list(onomatopoeia)]])\n",
    "        text_lens = np.array([len(onomatopoeia)])\n",
    "        visualono = [image_input.get()]\n",
    "        batch = (\n",
    "            name,\n",
    "            class_id,\n",
    "            text,\n",
    "            text_lens,\n",
    "            max(text_lens),\n",
    "            None, None, None, None, None, None,\n",
    "            visualono, [None]\n",
    "        )\n",
    "        batch = to_device(batch, DEVICE)\n",
    "        output = model(*(batch[1:]), config_t[\"use_image\"])\n",
    "        from scripts.utils.model import vocoder_infer\n",
    "        wav = vocoder_infer(\n",
    "            mels = output[1].detach().transpose(1,2),\n",
    "            vocoder = vocoder,\n",
    "            model_config=config_m,\n",
    "            preprocess_config=config_p,\n",
    "            Normalize=False\n",
    "        )\n",
    "        torchaudio.save(\"sample/tmp.wav\", torch.tensor(wav), 22050)\n",
    "        duration = output[5][0, :].detach().cpu().numpy()\n",
    "        print(duration)\n",
    "        energy_break = [duration[0]]\n",
    "        for j in range(1,len(duration)-1):\n",
    "            energy_break.append(energy_break[j-1]+duration[j])    \n",
    "        energy = output[2][0, :].detach().cpu().numpy()\n",
    "        energy = expand(energy, duration)\n",
    "        mel_prediction = output[1][0, :].detach().transpose(0, 1)\n",
    "        data = [[mel_prediction.cpu().numpy(), energy, energy_break]]\n",
    "        stats = [stats_param[\"energy\"][0], stats_param[\"energy\"][1]]\n",
    "        im_np = plot_mel(data, stats, [\"\"])\n",
    "        # save\n",
    "        im = Image.fromarray(im_np)\n",
    "        im.save(\"sample/tmp.png\")\n",
    "\n",
    "    solara.InputText(label=\"Your onomatopoeia\", value=synth_onomatopoeia, continuous_update=True)\n",
    "    with solara.Columns([7]):\n",
    "        solara.Button(\"Generate visual onomatopoeia\", on_click=on_click_generate_visual_onomatopoeia)\n",
    "        solara.Button(\"<-\")\n",
    "        solara.Button(\"->\")\n",
    "        solara.Button(\"expand\")\n",
    "        solara.Button(\"shrink\")\n",
    "        solara.Button(\"expand all\")\n",
    "        solara.Button(\"shrink all\")\n",
    "\n",
    "    solara.Text(\"Visual onomatopoeia\")\n",
    "    solara.Image(image_pil_show.get())\n",
    "\n",
    "    solara.Text(\"Sound class\")\n",
    "    labels = [label for label in dataset_.audiotype_map.keys()]\n",
    "    solara.ToggleButtonsSingle(value=class_name, values=labels)\n",
    "    solara.Button(\"synthesize\", on_click=lambda: on_click_synthesize())\n",
    "    solara.Text(\"synthesized environmental sound\")   \n",
    "    display(Audio(audio.get(), rate=22050))\n",
    "    solara.Text(\"Mel spectrogram\")\n",
    "    solara.Image(mel_img.get())\n",
    "\n",
    "\n",
    "Page()"
   ]
  }
 ],
 "metadata": {
  "kernelspec": {
   "display_name": "i17oonaka",
   "language": "python",
   "name": "python3"
  },
  "language_info": {
   "codemirror_mode": {
    "name": "ipython",
    "version": 3
   },
   "file_extension": ".py",
   "mimetype": "text/x-python",
   "name": "python",
   "nbconvert_exporter": "python",
   "pygments_lexer": "ipython3",
   "version": "3.8.10"
  },
  "orig_nbformat": 4
 },
 "nbformat": 4,
 "nbformat_minor": 2
}
