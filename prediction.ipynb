{
 "cells": [
  {
   "cell_type": "code",
   "execution_count": 1,
   "metadata": {},
   "outputs": [],
   "source": [
    "import yaml\n",
    "config_p = yaml.load(open(\"config/preprocess.yaml\", \"r\"), Loader=yaml.FullLoader)\n",
    "config_m = yaml.load(open(\"config/model.yaml\", \"r\"), Loader=yaml.FullLoader)\n",
    "config_t = yaml.load(open(\"config/train.yaml\", \"r\"), Loader=yaml.FullLoader)\n",
    "configs = (config_p, config_m, config_t)\n",
    "with open(\"preprocessed_data/RWCP-SSD/test.txt\", \"r\") as f:\n",
    "    test_files = f.readlines()"
   ]
  },
  {
   "cell_type": "code",
   "execution_count": 2,
   "metadata": {},
   "outputs": [
    {
     "name": "stderr",
     "output_type": "stream",
     "text": [
      "/home/i17oonaka/python_environment/i17oonaka/lib/python3.8/site-packages/torch/cuda/__init__.py:611: UserWarning: Can't initialize NVML\n",
      "  warnings.warn(\"Can't initialize NVML\")\n"
     ]
    },
    {
     "name": "stdout",
     "output_type": "stream",
     "text": [
      "restore_step 200000\n"
     ]
    },
    {
     "name": "stderr",
     "output_type": "stream",
     "text": [
      "/home/i17oonaka/python_environment/i17oonaka/lib/python3.8/site-packages/torch/nn/utils/weight_norm.py:30: UserWarning: torch.nn.utils.weight_norm is deprecated in favor of torch.nn.utils.parametrizations.weight_norm.\n",
      "  warnings.warn(\"torch.nn.utils.weight_norm is deprecated in favor of torch.nn.utils.parametrizations.weight_norm.\")\n"
     ]
    },
    {
     "name": "stdout",
     "output_type": "stream",
     "text": [
      "Removing weight norm...\n"
     ]
    }
   ],
   "source": [
    "import sys\n",
    "sys.path.append(\"./scripts\")\n",
    "from scripts.utils.model import get_model, get_vocoder\n",
    "import torch\n",
    "\n",
    "DEVICE = torch.device(\"cuda\" if torch.cuda.is_available() else \"cpu\")\n",
    "model = get_model(200000, configs, DEVICE)\n",
    "vocoder = get_vocoder(config_m, DEVICE)"
   ]
  },
  {
   "cell_type": "code",
   "execution_count": 3,
   "metadata": {},
   "outputs": [
    {
     "name": "stdout",
     "output_type": "stream",
     "text": [
      "sound label name : sound label id\n",
      "{'bells5': 0, 'clock1': 1, 'coffmill': 2, 'cup1': 3, 'drum': 4, 'maracas': 5, 'shaver': 6, 'tear': 7, 'trashbox': 8, 'whistle3': 9}\n"
     ]
    }
   ],
   "source": [
    "from scripts.dataset import Dataset\n",
    "\n",
    "dataset_ = Dataset(config_p, config_t)\n",
    "print(f\"sound label name : sound label id\\n{dataset_.audiotype_map}\")"
   ]
  },
  {
   "cell_type": "code",
   "execution_count": 4,
   "metadata": {},
   "outputs": [],
   "source": [
    "from pathlib import Path\n",
    "import numpy as np\n",
    "from PIL import Image, ImageDraw, ImageFont\n",
    "import cv2\n",
    "\n",
    "def pil2cv(pil_im, color=False):\n",
    "    ''' PIL型 -> OpenCV型 '''\n",
    "    new_image = np.array(pil_im, dtype=np.uint8)\n",
    "    if new_image.ndim == 2:  # モノクロ\n",
    "        pass\n",
    "    elif new_image.shape[2] == 3:  # カラー\n",
    "        if color:\n",
    "            new_image = cv2.cvtColor(new_image, cv2.COLOR_RGB2BGR)\n",
    "        else:\n",
    "            new_image = cv2.cvtColor(new_image, cv2.COLOR_RGB2GRAY)\n",
    "    elif new_image.shape[2] == 4:  # 透過\n",
    "        if color:\n",
    "            new_image = cv2.cvtColor(new_image, cv2.COLOR_RGBA2BGRA)\n",
    "        else:\n",
    "            new_image = cv2.cvtColor(new_image, cv2.COLOR_RGBA2GRAY)\n",
    "    return new_image\n",
    "\n",
    "\n",
    "def img_pad(im, max_width):\n",
    "    def add_margin(pil_img, top, right, bottom, left, color):\n",
    "        width, height = pil_img.size\n",
    "        new_width = width + right + left\n",
    "        new_height = height + top + bottom\n",
    "        result = Image.new(pil_img.mode, (new_width, new_height), color)\n",
    "        result.paste(pil_img, (left, top))\n",
    "        return result\n",
    "    pad_left = (max_width - im.width)/2 + ((max_width - im.width)%2)\n",
    "    pad_right = (max_width - im.width)/2\n",
    "\n",
    "    return add_margin(im, 0, int(pad_right), 0, int(pad_left), (0,0,0))\n",
    "\n",
    "def generate_visualono(text, max_width):\n",
    "    fs = config_p[\"preprocessing\"][\"text\"][\"font_size\"]\n",
    "    bgcolor = tuple(config_p[\"preprocessing\"][\"image\"][\"background_color\"])\n",
    "    txtcolor = tuple(config_p[\"preprocessing\"][\"image\"][\"text_color\"])\n",
    "    font = ImageFont.truetype(\n",
    "        str(Path(config_p[\"path\"][\"font_path\"])), \n",
    "        fs\n",
    "    )\n",
    "    canvas_width = len(text)*max_width\n",
    "    canvas = Image.new(\"RGB\", (canvas_width, fs), (255, 255, 255))\n",
    "    w = 0\n",
    "    for char in text:\n",
    "        c_im = Image.new(\"RGB\", (fs, fs), bgcolor)\n",
    "        c_draw = ImageDraw.Draw(c_im)\n",
    "        c_draw.text((0, 0), char, fill=txtcolor, font=font)\n",
    "        c_im = img_pad(c_im, max_width)\n",
    "        canvas.paste(c_im, (w, 0))\n",
    "        w += fs\n",
    "    canvas_1ch = canvas.convert(\"L\")\n",
    "    return canvas_1ch\n",
    "\n",
    "def get_input(class_id, onomatopoeia):\n",
    "    name = [onomatopoeia]\n",
    "    class_id = np.array([class_id])\n",
    "    text = np.array([[dataset_.symbol_to_id[t] for t in list(onomatopoeia)]])\n",
    "    text_lens = np.array([len(onomatopoeia)])\n",
    "    visualono = [generate_visualono(onomatopoeia, max_width=dataset_.width)]\n",
    "    batch = (\n",
    "        name,\n",
    "        class_id,\n",
    "        text,\n",
    "        text_lens,\n",
    "        max(text_lens),\n",
    "        None, None, None, None, None,\n",
    "        visualono, [None]\n",
    "    )\n",
    "    return batch"
   ]
  },
  {
   "cell_type": "code",
   "execution_count": 5,
   "metadata": {},
   "outputs": [
    {
     "name": "stdout",
     "output_type": "stream",
     "text": [
      "sound label: whistle3\n",
      "Onomatopoeia: ピーィ\n"
     ]
    },
    {
     "data": {
      "text/html": [
       "\n",
       "                <audio  controls=\"controls\" >\n",
       "                    <source src=\"data:audio/wav;base64,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\" type=\"audio/wav\" />\n",
       "                    Your browser does not support the audio element.\n",
       "                </audio>\n",
       "              "
      ],
      "text/plain": [
       "<IPython.lib.display.Audio object>"
      ]
     },
     "metadata": {},
     "output_type": "display_data"
    }
   ],
   "source": [
    "from scripts.utils.tools import to_device\n",
    "import random\n",
    "\n",
    "test_sample = random.choice(test_files)\n",
    "_, sound_label, _, _, onomatopoeia = test_sample.split(\"|\")\n",
    "sound_label_id = dataset_.audiotype_map[sound_label]\n",
    "onomatopoeia = onomatopoeia.strip(\"\\n\")\n",
    "batch = get_input(\n",
    "    sound_label_id,\n",
    "    onomatopoeia\n",
    ")\n",
    "batch = to_device(batch, DEVICE)\n",
    "output = model(*(batch[1:]), config_t[\"use_image\"])\n",
    "\n",
    "from scripts.utils.model import vocoder_infer\n",
    "wav = vocoder_infer(\n",
    "    mels = output[1].detach().transpose(1,2),\n",
    "    vocoder = vocoder,\n",
    "    model_config=config_m,\n",
    "    preprocess_config=config_p,\n",
    "    Normalize=False\n",
    ")\n",
    "import IPython.display as ipd\n",
    "print(f\"sound label: {sound_label}\\nOnomatopoeia: {batch[0][0]}\")\n",
    "ipd.display(ipd.Audio(wav, rate=config_p[\"preprocessing\"][\"audio\"][\"sampling_rate\"]))"
   ]
  }
 ],
 "metadata": {
  "kernelspec": {
   "display_name": "i17oonaka",
   "language": "python",
   "name": "python3"
  },
  "language_info": {
   "codemirror_mode": {
    "name": "ipython",
    "version": 3
   },
   "file_extension": ".py",
   "mimetype": "text/x-python",
   "name": "python",
   "nbconvert_exporter": "python",
   "pygments_lexer": "ipython3",
   "version": "3.8.10"
  },
  "orig_nbformat": 4
 },
 "nbformat": 4,
 "nbformat_minor": 2
}
